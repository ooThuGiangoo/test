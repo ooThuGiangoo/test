{
 "cells": [
  {
   "cell_type": "markdown",
   "id": "8a0b58c8",
   "metadata": {},
   "source": [
    "# Tên dự án: Tính toán và phân tích điểm thi (Test Grade Calculator)\n",
    "## Task 1:\n",
    "\n",
    "Tạo một chương trình Python mới có tên “lastname_firstname_grade_the_exams.py.” (Đảm bảo tệp mã nguồn của bạn nằm trong cùng thư mục với tệp dữ liệu bạn vừa tải xuống.)\n",
    "\n",
    "Tiếp theo, viết một chương trình cho phép người dùng nhập tên của một tệp. Cố gắng mở tệp được cung cấp để truy cập đọc. Nếu tệp tồn tại, bạn có thể in ra một thông báo xác nhận. Nếu tệp không tồn tại, bạn nên cho người dùng biết rằng không thể tìm thấy tệp và nhắc lại họ.\n",
    "\n",
    "Sử dụng try/except để thực hiện việc này (đừng chỉ sử dụng một loạt câu lệnh “if” — chúng tôi muốn chương trình này càng “chung chung” càng tốt). \n",
    "## Task 2:\n",
    "\n",
    "Tiếp theo, bạn sẽ cần phân tích dữ liệu có trong tệp bạn vừa mở để đảm bảo rằng nó ở đúng định dạng. Mỗi tệp dữ liệu chứa một loạt câu trả lời của học sinh ở định dạng sau:\n",
    "\n",
    "N12345678,B,A,D,D,C,B,D,A,C,C,D,B,A,B,A,C,B,D,A,C,A,A,B,D,D\n",
    "hoặc N12345678,B,,D,,C,B,,A,C,C,,B,A,B,A,,,,A,C,A,A,B,D,\n",
    "\n",
    "Giá trị đầu tiên là số ID của sinh viên. 25 chữ cái sau là câu trả lời của học sinh cho kỳ thi. Tất cả các giá trị được phân tách bằng dấu phẩy. Nếu không có chữ cái nào sau dấu phẩy, điều này có nghĩa là học sinh đã bỏ qua việc trả lời câu hỏi.\n",
    "\n",
    "Lưu ý rằng một số dòng dữ liệu có thể bị hỏng! \n",
    "Ví dụ: dòng dữ liệu này không có đủ câu trả lời:\n",
    "N12345678,B,A,D,D,C,B\n",
    "Và dòng dữ liệu này có quá nhiều câu trả lời:\n",
    "N12345678,B,A,D,D,C,B,D,A,C,C,D,B,A,B,A,C,B,D,A,C,A,A,B,D,D,A,B,C,D,E\n",
    "\n",
    "Nhiệm vụ của bạn cho phần này của chương trình là thực hiện như sau:\n",
    "\n",
    "* Báo cáo tổng số dòng dữ liệu được lưu trữ trong tệp.\n",
    "* Phân tích từng dòng và đảm bảo rằng nó là \"hợp lệ\".\n",
    "* Một dòng hợp lệ chứa danh sách 26 giá trị được phân tách bằng dấu phẩy\n",
    "* N# cho một học sinh là mục đầu tiên trên dòng. Nó phải chứa ký tự “N” theo sau là 8 ký tự số.\n",
    "\n",
    "Nếu một dòng dữ liệu không hợp lệ, bạn nên báo cáo cho người dùng bằng cách in ra một thông báo lỗi. Bạn cũng nên đếm tổng số dòng dữ liệu hợp lệ trong tệp.\n",
    "## Task 3:\n",
    "\n",
    "Tiếp theo, bạn sẽ viết một chương trình để chấm điểm các bài thi cho một phần nhất định. Kỳ thi gồm 25 câu hỏi, trắc nghiệm. Đây là một chuỗi đại diện cho các câu trả lời:\n",
    "\n",
    "answer_key = \"B,A,D,D,C,B,D,A,C,C,D,B,A,B,A,C,B,D,A,C,A,A,B,D,D\"\n",
    "\n",
    "Chương trình của bạn nên sử dụng những câu trả lời này để tính điểm cho mỗi dòng dữ liệu hợp lệ. Điểm có thể được tính như sau:\n",
    "\n",
    "* +4 điểm cho mỗi câu trả lời đúng\n",
    "* 0 điểm cho mỗi câu trả lời bị bỏ qua\n",
    "* -1 điểm cho mỗi câu trả lời sai\n",
    "\n",
    "Bạn cũng sẽ muốn tính toán các thống kê sau cho toàn bộ lớp: Điểm trung bình, Điểm cao nhất, Điểm thấp nhất, Miền giá trị của điểm (cao nhất trừ thấp nhất), Giá trị trung vị (Sắp xếp các điểm theo thứ tự tăng dần. Nếu # học sinh là số lẻ, bạn có thể lấy giá trị nằm ở giữa của tất cả các điểm (tức là [0, 50, 100] — trung vị là 50). Nếu # học sinh là chẵn bạn có thể tính giá trị trung vị bằng cách lấy giá trị trung bình của hai giá trị giữa (tức là [0, 50, 60, 100] — giá trị trung vị là 55)).\n",
    "\n",
    "## Task 4:\n",
    "\n",
    "Cuối cùng, yêu cầu chương trình của bạn tạo một tệp “kết quả” chứa các kết quả chi tiết cho từng học sinh trong lớp của bạn. Mỗi dòng của tệp này phải chứa số ID của học sinh, dấu phẩy và sau đó là điểm của họ. Bạn nên đặt tên tệp này dựa trên tên tệp gốc được cung cấp — ví dụ: nếu người dùng muốn phân tích “class1.txt”, bạn nên lưu trữ kết quả trong tệp có tên “class1_grades.txt”."
   ]
  },
  {
   "cell_type": "code",
   "execution_count": null,
   "id": "dd80a671",
   "metadata": {},
   "outputs": [],
   "source": [
    "import os\n",
    "print(os.getcwd())\n",
    "thumuc = os.listdir()\n",
    "thumuc"
   ]
  },
  {
   "cell_type": "code",
   "execution_count": null,
   "id": "9e290706",
   "metadata": {},
   "outputs": [],
   "source": [
    "filename = input(\"Enter a filename: \")\n",
    "filename in thumuc"
   ]
  },
  {
   "cell_type": "code",
   "execution_count": null,
   "id": "57acda09",
   "metadata": {},
   "outputs": [],
   "source": [
    "with open('class8.txt', \"r\") as file1:\n",
    "        Bangdiem = file1.read()\n",
    "        print(Bangdiem)\n",
    "        print(type(Bangdiem))\n",
    "        "
   ]
  },
  {
   "cell_type": "code",
   "execution_count": null,
   "id": "474da5e5",
   "metadata": {},
   "outputs": [],
   "source": [
    "Bangdiemlop = Bangdiem.split('\\n') #chia bảng điểm thành các dòng > tạo nên 1 list mới\n",
    "Bangdiemlop\n"
   ]
  },
  {
   "cell_type": "code",
   "execution_count": null,
   "id": "6a8edad7",
   "metadata": {},
   "outputs": [],
   "source": [
    "Invalid = 0\n",
    "for i in range(len(Bangdiemlop)) :  # với mỗi str trong list Bangdiemlop\n",
    "    BangdiemHS = Bangdiemlop[i].split(',')  #chia từng str thành các list\n",
    "    if len(BangdiemHS) != 26 : \n",
    "        print ('Dòng không đủ đáp án :\\n', BangdiemHS)\n",
    "        Invalid += 1\n",
    "    if BangdiemHS[0][0] != 'N' :  \n",
    "        print ('Dòng sai mã số sinh viên :\\n', BangdiemHS)\n",
    "        Invalid += 1\n",
    "    if len(BangdiemHS[0]) != 9 :  #MSV là 1 str\n",
    "        print ('Dòng sai mã số sinh viên :\\n', BangdiemHS)\n",
    "        Invalid += 1\n",
    "    subMSV = BangdiemHS[0][1:len(BangdiemHS[0])]\n",
    "    if subMSV.isdigit() == False :\n",
    "        print ('Dòng sai mã số sinh viên :\\n', BangdiemHS)\n",
    "        Invalid += 1\n",
    "print ('************* REPORT ***************\\n')\n",
    "print('Số dòng trong tệp là :',len(Bangdiemlop)) \n",
    "print ('\\n Số dòng không hợp lệ là :', Invalid)"
   ]
  },
  {
   "cell_type": "code",
   "execution_count": null,
   "id": "ee915e54",
   "metadata": {},
   "outputs": [],
   "source": [
    "answer_key = 'B,A,D,D,C,B,D,A,C,C,D,B,A,B,A,C,B,D,A,C,A,A,B,D,D' #str\n",
    "answer_key = answer_key.split(',')\n",
    "answer_key = list(answer_key) #list\n",
    "print(answer_key)"
   ]
  },
  {
   "cell_type": "code",
   "execution_count": null,
   "id": "62f0a740",
   "metadata": {},
   "outputs": [],
   "source": [
    "Ketqua = []\n",
    "for i in range(len(Bangdiemlop)) :  # với mỗi str trong list Bangdiemlop\n",
    "    BangdiemHS = Bangdiemlop[i].split(',')  #chia từng str thành các list \n",
    "    answer = BangdiemHS[1:len(BangdiemHS)]\n",
    "    print (BangdiemHS)\n",
    "    grade = 0\n",
    "    for i,j in zip(answer,answer_key):\n",
    "        if i == j :\n",
    "            grade += 4\n",
    "        if i != j :\n",
    "            if i == (''):\n",
    "                grade += 0        \n",
    "            else :\n",
    "                grade -= 1     \n",
    "    print ('Điểm của hs là : ',grade)   \n",
    "    Ketqua.append(grade)\n",
    "print('\\n BẢNG ĐIỂM CỦA CẢ LỚP :',Ketqua)\n",
    "len(Ketqua)"
   ]
  },
  {
   "cell_type": "code",
   "execution_count": null,
   "id": "b9bd5d00",
   "metadata": {},
   "outputs": [],
   "source": [
    "import numpy as np\n",
    "import pandas as pd\n",
    "print('Điểm thấp nhất : ',min(Ketqua))\n",
    "print('Điểm cao nhất : ', max(Ketqua))\n",
    "print('Median :',np.median(Ketqua))\n",
    "print('Range : ', max(Ketqua)-min(Ketqua))\n",
    "print('Điểm trung bình của lớp : ',np.mean(Ketqua))\n"
   ]
  },
  {
   "cell_type": "code",
   "execution_count": null,
   "id": "32c3b107",
   "metadata": {},
   "outputs": [],
   "source": [
    "danhsach = []\n",
    "for i in range(len(Bangdiemlop)) :  # với mỗi str trong list Bangdiemlop\n",
    "    BangdiemHS = Bangdiemlop[i].split(',')  #chia từng str thành các list \n",
    "    MSV = BangdiemHS[0] \n",
    "    danhsach.append(MSV)\n",
    "print(danhsach) "
   ]
  },
  {
   "cell_type": "code",
   "execution_count": null,
   "id": "69dd6037",
   "metadata": {},
   "outputs": [],
   "source": [
    "Tongket1 = []\n",
    "for i,j in zip(danhsach,Ketqua) :\n",
    "    Tongket = (i,j)\n",
    "    Tongket1.append(Tongket)\n",
    "print(Tongket1)   "
   ]
  },
  {
   "cell_type": "code",
   "execution_count": null,
   "id": "879831bd",
   "metadata": {},
   "outputs": [],
   "source": [
    "Tongket1 = str(Tongket1)\n",
    "with open('class8_grades.txt', \"w\") as file2:\n",
    "        file2 = file2.writelines(Tongket1)\n",
    "with open('class8_grades.txt', \"r\") as file2:    \n",
    "    print(file2.read())"
   ]
  },
  {
   "cell_type": "code",
   "execution_count": null,
   "id": "aad84a68",
   "metadata": {},
   "outputs": [],
   "source": []
  }
 ],
 "metadata": {
  "kernelspec": {
   "display_name": "Python 3",
   "language": "python",
   "name": "python3"
  },
  "language_info": {
   "codemirror_mode": {
    "name": "ipython",
    "version": 3
   },
   "file_extension": ".py",
   "mimetype": "text/x-python",
   "name": "python",
   "nbconvert_exporter": "python",
   "pygments_lexer": "ipython3",
   "version": "3.8.8"
  }
 },
 "nbformat": 4,
 "nbformat_minor": 5
}
